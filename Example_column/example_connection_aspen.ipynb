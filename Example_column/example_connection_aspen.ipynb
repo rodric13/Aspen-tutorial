{
 "cells": [
  {
   "cell_type": "markdown",
   "metadata": {},
   "source": [
    "# Connecting an Aspen simulation to Python\n",
    "\n",
    "In this notebook, it is illustrated how to connect aspen with python to run calculations"
   ]
  },
  {
   "cell_type": "markdown",
   "metadata": {},
   "source": [
    "## Importing all the libraries \n",
    "\n",
    "In the next code cell. All the libraries required to connect to Aspen are imported."
   ]
  },
  {
   "cell_type": "code",
   "execution_count": 1,
   "metadata": {},
   "outputs": [],
   "source": [
    "import os                         # This library is useful to navigate different files \n",
    "import numpy as np                # This library is optional helpful to store the values into efficient arrays \n",
    "import matplotlib.pyplot as plt   # Common library for plotting also optional\n",
    "import win32com.client as win32   # Client that connect\n",
    " "
   ]
  },
  {
   "cell_type": "markdown",
   "metadata": {},
   "source": [
    "## Description of the simulation\n",
    "\n",
    "The simulation is a distialltion column that separate n-hexane from n-decane. The simulation was obtained from the first tutorial of: \n",
    "\n",
    "\n",
    "https://www.accessengineeringlibrary.com/content/book/9781260116458\n",
    "\n",
    "The following image is a  screenshoot of the simulation:\n",
    "\n",
    "<img src=\"images/simulation.png\" width=\"800\" height=\"400\">"
   ]
  },
  {
   "cell_type": "markdown",
   "metadata": {},
   "source": [
    "## Exploring the folder\n",
    "\n",
    "The first part is to locate the simulation in order to do that the os libray is used."
   ]
  },
  {
   "cell_type": "code",
   "execution_count": 2,
   "metadata": {},
   "outputs": [
    {
     "data": {
      "text/plain": [
       "['.ipynb_checkpoints',\n",
       " 'CSV_file',\n",
       " 'example_connection_aspen.ipynb',\n",
       " 'images',\n",
       " 'SIM']"
      ]
     },
     "execution_count": 2,
     "metadata": {},
     "output_type": "execute_result"
    }
   ],
   "source": [
    "# Printing the contents of the current directory\n",
    "\n",
    "os.listdir()\n",
    "\n",
    "# The simulation is contained in the SIM folder "
   ]
  },
  {
   "cell_type": "code",
   "execution_count": 3,
   "metadata": {},
   "outputs": [
    {
     "data": {
      "text/plain": [
       "['example_column.ads',\n",
       " 'example_column.appdf',\n",
       " 'example_column.apw',\n",
       " 'example_column.bkp',\n",
       " 'example_column.def',\n",
       " 'example_column.for',\n",
       " 'example_column.his',\n",
       " '_0040fza.def',\n",
       " '_3625tez']"
      ]
     },
     "execution_count": 3,
     "metadata": {},
     "output_type": "execute_result"
    }
   ],
   "source": [
    "# In this folder all the simulation files are contained \n",
    "\n",
    "os.listdir('SIM')"
   ]
  },
  {
   "cell_type": "markdown",
   "metadata": {},
   "source": [
    "## Establishing a connection"
   ]
  },
  {
   "cell_type": "code",
   "execution_count": 4,
   "metadata": {},
   "outputs": [],
   "source": [
    "aspen = win32.Dispatch('Apwn.Document') # Establishing a connection to Aspen"
   ]
  },
  {
   "cell_type": "code",
   "execution_count": 5,
   "metadata": {},
   "outputs": [],
   "source": [
    "aspen.InitFromArchive2(os.path.abspath('SIM/example_column.bkp')) # Starting the file important to use the bkp extesion"
   ]
  },
  {
   "cell_type": "markdown",
   "metadata": {},
   "source": [
    "## Accessing variables from the simulation\n",
    "\n",
    "In order to obtain the variables from the location of the variables in the simulation is required. Aspen provides a variable explorer. The variable explore can be found in the Customize tab. \n",
    "\n",
    "<img src=\"images/variable_exp_loc.png\" width=\"1200\" height=\"400\">"
   ]
  },
  {
   "cell_type": "markdown",
   "metadata": {},
   "source": [
    "### Example variable explorer simulation\n",
    "\n",
    "<img src=\"images/variable_explorer.png\" width=\"1200\" height=\"400\">"
   ]
  },
  {
   "cell_type": "markdown",
   "metadata": {},
   "source": [
    "It is important to note that the variables in the variable does not have the units. Therefore, it is important to keep a track of the units of the simulation. Another important consideration, it is to keep in mind the names used for the different variables and blocks"
   ]
  },
  {
   "cell_type": "code",
   "execution_count": 23,
   "metadata": {},
   "outputs": [
    {
     "name": "stdout",
     "output_type": "stream",
     "text": [
      "The heat duty is: 90264.127 cal/s\n"
     ]
    }
   ],
   "source": [
    "# Retrieving heat duty\n",
    "heat_duty = aspen.Tree.FindNode(r'\\Data\\Blocks\\DISTIL\\Output\\DUTY\\15').Value\n",
    "\n",
    "print ('The heat duty is:' , heat_duty , 'cal/s')"
   ]
  },
  {
   "cell_type": "markdown",
   "metadata": {},
   "source": [
    "### Running the simulation with different conditions "
   ]
  },
  {
   "cell_type": "code",
   "execution_count": 27,
   "metadata": {},
   "outputs": [],
   "source": [
    "# Changing the feed rate \n",
    "\n",
    "aspen.Tree.FindNode(r\"\\Data\\Streams\\1\\Input\\FLOW\\MIXED\\N-HEXANE\").Value = 150\n",
    "aspen.Tree.FindNode(r\"\\Data\\Streams\\1\\Input\\FLOW\\MIXED\\N-DECANE\").Value  = 150\n",
    "\n",
    "# Running the simulation with the new feeding rates \n",
    "\n",
    "aspen.Engine.Run2()"
   ]
  },
  {
   "cell_type": "code",
   "execution_count": 28,
   "metadata": {},
   "outputs": [
    {
     "name": "stdout",
     "output_type": "stream",
     "text": [
      "The heat duty is: 135396.879 cal/s\n"
     ]
    }
   ],
   "source": [
    "# Retrieving the new heat duty\n",
    "heat_duty = aspen.Tree.FindNode(r'\\Data\\Blocks\\DISTIL\\Output\\DUTY\\15').Value\n",
    "\n",
    "print ('The heat duty is:' , heat_duty , 'cal/s')"
   ]
  },
  {
   "cell_type": "code",
   "execution_count": 29,
   "metadata": {},
   "outputs": [],
   "source": [
    "# Closing the simulation \n",
    "\n",
    "aspen.close()"
   ]
  }
 ],
 "metadata": {
  "kernelspec": {
   "display_name": "Python 3",
   "language": "python",
   "name": "python3"
  },
  "language_info": {
   "codemirror_mode": {
    "name": "ipython",
    "version": 3
   },
   "file_extension": ".py",
   "mimetype": "text/x-python",
   "name": "python",
   "nbconvert_exporter": "python",
   "pygments_lexer": "ipython3",
   "version": "3.8.3"
  }
 },
 "nbformat": 4,
 "nbformat_minor": 4
}
